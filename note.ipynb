{
 "cells": [
  {
   "cell_type": "markdown",
   "metadata": {},
   "source": [
    "# Chapter 15. 时间复杂度分析及基本算法介绍\n",
    "\n",
    "在本章中，我们将要介绍时间复杂度这一概念，并介绍几个最基本的算法然后分析其复杂度。"
   ]
  },
  {
   "cell_type": "markdown",
   "metadata": {},
   "source": [
    "## 时间复杂度\n",
    "\n",
    "时间复杂度是衡量算法优劣的一个重要的途径。通过时间复杂度分析，我们可以清楚的看到一个算法在数据规模较为庞大时所需的运行时间的多少。接下来我们将介绍时间复杂度的定义以及几种常用的时间复杂度分析方法。"
   ]
  },
  {
   "cell_type": "markdown",
   "metadata": {},
   "source": [
    "## 一. 一些渐近记号\n",
    "\n",
    "常用的渐近记号有$\\Theta$记号，大$O$记号，$\\Omega$记号等等，另外还有小$o$记号，$\\omega$记号，后面两种作为补充，有兴趣的同学可以自行**翻阅《算法导论》或相关书籍及教程**了解。我们主要介绍$\\Theta$记号，大$O$记号，$\\Omega$记号这三种常用记号。"
   ]
  },
  {
   "cell_type": "markdown",
   "metadata": {},
   "source": [
    "## 1. $\\Theta$记号\n",
    "\n",
    "对于一个给定的函数$g(n)$，我们用$\\Theta(g(n))$表示以下函数的集合：\n",
    "\n",
    "$$\\Theta(g(n)) = \\{f(n) : 存在正常量c_1, c_2和n_0，使得对于所有的n \\geq n_0，有0 \\leq c_1g(n) \\leq f(n) \\leq c_2g(n)\\}$$\n",
    "\n",
    "若存在正常量$c_1, c_2$，使得对于足够大的$n \\geq n_0$，函数$f(n)$能\"夹入\"$c_1g(n)$和$c_2g(n)$之间，则可记$f(n) \\in \\Theta(g(n))$。作为替代，我们通常用$f(n) = \\Theta(g(n))$表达相同的概念。\n",
    "\n",
    "我们通过几个例子来对这个概念有一个直观的理解。假设$f(n) = 6n^2 + 8n$，我们现在来证明$f(n) = \\Theta(n^2)$。也即寻找常数$c_1,c_2$，使得$c_1n^2 \\leq 6n^2 + 8n \\leq c_2n^2$。这等价于\n",
    "\n",
    "$$c_1 \\leq 6 + \\frac{8}{n} \\leq c_2$$\n",
    "\n",
    "因而我们只需令$c_1 \\leq 6$，$c_2 \\geq 7$，该不等式就对任意的$n \\geq n_0 = 8$成立了。\n",
    "\n",
    "我们再来证明$f(n) = 8n^3 \\ln n \\neq \\Theta(n^3)$。我们采用反证法，假设存在$c_2,n_0$，使得对任意的$n \\geq n_0$都有$8n^3 \\ln n \\leq c_2n^3$成立，这也就等价于\n",
    "\n",
    "$$\\ln n \\leq c_2$$\n",
    "\n",
    "然而这个不等式对于任意大的$c_2$，都可以找到足够大的$n$使得不等式不被满足。因而与原假设矛盾，命题得证。\n",
    "\n",
    "从以上两个例子，我们可以直观地感受到，**一个函数的低阶项和高阶项的常数在$\\Theta$记号里是无关紧要的**，前者是因为当$n$趋近于无穷大时，即使最高阶项的很小一部分也足以支配所有低阶项；后者是因为我们总可以找到足够小的$c_1$和足够大的$c_2$来把这个函数界住。\n",
    "\n",
    "下面我们通过一道练习题来加深对$\\Theta$记号的理解。"
   ]
  },
  {
   "cell_type": "markdown",
   "metadata": {},
   "source": [
    "**例：**若函数$f(n)$满足$f(n) = \\Theta(n \\log_2 n)$，则$f(n)$可以是：（多选）\n",
    "\n",
    "A. $n \\ln 2n + \\sqrt{n}$\n",
    "\n",
    "B. $3n (\\ln 4n)^2 - 5n$\n",
    "\n",
    "C. $\\sum_{i = 1}^n n / i - 6 \\log_2 n$\n",
    "\n",
    "D. $7 \\ln n! + 8 (\\log_{233} n)^{666}$"
   ]
  },
  {
   "cell_type": "markdown",
   "metadata": {},
   "source": [
    "## 2. 大$O$记号\n",
    "\n",
    "与$\\Theta$记号不同，大$O$记号并没有要求一个下界，当只有一个**渐近上界**时，我们使用大$O$记号。不难得出大$O$记号的定义：对于给定的函数$g(n)$，用$O(g(n))$表示以下函数的集合\n",
    "\n",
    "$$O(g(n)) = \\{f(n):存在正常量c和n_0，使得对于所有的n \\geq n_0，有0 \\leq f(n) \\leq cg(n)\\}$$\n",
    "\n",
    "与$\\Theta$记号类似，我们可以说$f(n) = 4n^3 + n^2 + 8 = O(n^3)$，$f(n) = 0.66666n^6 - 23333n^5 \\neq O(n^5)$(这再次说明常数和低阶项是无关紧要的)，甚至你可以说$f(n) = \\log_{233} n = O(n^{233})$，但是这毫无意义，所以不推荐你这样做。在实际应用中，**一般都会用大$O$记号，并且一般来说这样的大$O$记号也可以被$\\Theta$记号代替。**\n",
    "\n",
    "我们还是通过一道练习题加深对大$O$记号的理解。"
   ]
  },
  {
   "cell_type": "markdown",
   "metadata": {},
   "source": [
    "**例：**下列说法正确的有：（多选）\n",
    "\n",
    "A. 若$f(n) = c(c为常数)$，则$f(n) = O(1)$\n",
    "\n",
    "B. 若$f(n) = \\Theta(g(n))$，则一定有$f(n) = O(g(n))$\n",
    "\n",
    "C. 若$f(n) = a^n(a > 1)$，则一定存在一个正常数$c$满足$f(n) = O(n^c)$\n",
    "\n",
    "D. 若$f(n)$满足$f(n) = f(\\frac{n}{2}) + O(n \\log_2 n)$，则$f(n) = O(n \\log_2 n)$\n",
    "\n",
    "E. 若$f(n)$满足$f(n) = 2f(\\frac{n}{2}) + O(n (\\log_2 n)^a)(a为非负整数)$，则$f(n) = O(n (\\log_2 n)^{a + 1})$"
   ]
  },
  {
   "cell_type": "markdown",
   "metadata": {},
   "source": [
    "## 3. $\\Omega$记号\n",
    "\n",
    "与大$O$记号相反，$\\Omega$记号给出了一个**渐近下界**，对于给定的函数$g(n)$，用$\\Omega(g(n))$表示以下函数的集合\n",
    "\n",
    "$$\\Omega(g(n)) = \\{f(n):存在正常量c和n_0，使得对于所有的n \\geq n_0，有0 \\leq cg(n) \\leq f(n)\\}$$\n",
    "\n",
    "下面有一个定理来说明上述三种记号的关系：\n",
    "\n",
    "**定理：**对于任意两个函数$f(n),g(n)$，$f(n) = \\Theta(g(n))$当且仅当$f(n) = O(g(n))$且$f(n) = \\Omega(g(n))$\n",
    "\n",
    "我们还是通过一道练习题加深对$\\Omega$记号的理解。"
   ]
  },
  {
   "cell_type": "markdown",
   "metadata": {},
   "source": [
    "**例：**下列说法正确的有：（多选）\n",
    "\n",
    "A. 给定两个非负函数$f(n),g(n)$，$f(n) = O(g(n))$和$f(n) = \\Omega(g(n))$中至少有一个成立\n",
    "\n",
    "B. 若$f(n)$是斐波那契数列的第$n$项，那么对于任意大的正数$c$都有$f(n) = \\Omega(n^c)$\n",
    "\n",
    "C. 若$f(n) = n^a(a > 1)$，则对于任意大的正数$c$都有$f(n) = \\Omega(n (\\ln n)^c)$\n",
    "\n",
    "D. $f(n) = O(g(n))$蕴含着$g(n) = \\Omega(f(n))$"
   ]
  },
  {
   "cell_type": "markdown",
   "metadata": {},
   "source": [
    "## 4. 小$o$记号和$\\omega$记号\n",
    "\n",
    "小$o$记号和$\\omega$记号分别与大$O$记号和$\\Omega$记号相似，只是小$o$记号和$\\omega$记号给定了一个非紧的下界，即$g(n)$在渐近意义上需严格小于或大于$f(n)$。若$f(n) = o(g(n))$，则有下式成立：\n",
    "\n",
    "$$\\lim_{n \\to \\infty} \\frac{f(n)}{g(n)} = 0$$\n",
    "\n",
    "$\\omega$记号将上式的分子和分母调换即可。"
   ]
  },
  {
   "cell_type": "markdown",
   "metadata": {},
   "source": [
    "## 5. 一些补充和拓展\n",
    "\n",
    "渐近符号所涉及的函数$f,g$还可以拓展到高维，下面以二维的大$O$记号为例，你也可以仿照将其他几种写出来。\n",
    "\n",
    "**二维情景下的大$O$记号：**对于给定的函数$g(n,m)$，用$O(g(n,m))$表示以下函数的集合：\n",
    "\n",
    "$$O(g(n,m)) = \\{f(n,m):存在正常量c和n_0，使得对于所有的n \\geq n_0或m \\geq n_0，有0 \\leq f(n,m) \\leq cg(n,m)\\}$$\n",
    "\n",
    "这对时间复杂度的表示有着重要意义。\n",
    "\n",
    "下面我们给出几个性质，这些性质对时间复杂度的计算也有着重要的意义。\n",
    "\n",
    "设$f(n),g(n)$为渐近非负函数，则有\n",
    "\n",
    "1. $\\max(f(n), g(n)) = \\Theta(f(n) + g(n))$\n",
    "\n",
    "2. $f(n) + g(n) = \\Theta(f(n) + g(n))$\n",
    "\n",
    "3. $\\Theta(f(n)) + \\Theta(g(n)) = \\Theta(f(n) + g(n))$\n",
    "\n",
    "4. $\\Theta(f(n)) * \\Theta(g(n)) = \\Theta(f(n) * g(n))$"
   ]
  },
  {
   "cell_type": "markdown",
   "metadata": {},
   "source": [
    "## 6. 练习题\n",
    "\n",
    "将下面的函数根据函数增长的阶来排序，即求出满足$g_1 = O(g_2), g_2 = O(g_3), \\cdots$的一种排列。然后把你的所列出的函数划分成一些等价类，使得在相同的等价类里的任意两个函数$f(n),g(n)$满足$f(n) = \\Theta(g(n))$。\n",
    "\n",
    "$$n^2 \\quad n! \\quad n^{\\ln n} \\quad (\\frac{3}{2})^n \\quad n^3 \\quad (\\ln n)^2 \\quad \\ln n! \\quad 2^{2^n} \\quad\n",
    "  \\ln \\ln n \\quad n \\cdot 2^n \\quad \\ln n \\quad 1 \\quad 4^{\\log_2 n} \\quad (n+1)! \\quad n \\quad 2^n \\quad n \\ln n \\quad 2^{2^{n+1}} \\quad \\log_2^* n$$\n",
    "  \n",
    "注：$$\\log_2^* n = \\min\\{i \\geq 0: \\log_2^{(i)} n \\leq 1\\}$$"
   ]
  },
  {
   "cell_type": "markdown",
   "metadata": {},
   "source": [
    "## 二. 时间复杂度的概念及具体算法分析\n",
    "\n",
    "下面我们将介绍时间复杂度的概念，并用几个简单的例子来体会分析算法时间复杂度的方法。在接下来的叙述中，为了叙述方便，也为了与实际应用习惯相符，**我们用大$O$记号来表示$\\Theta$记号的含义。**"
   ]
  },
  {
   "cell_type": "markdown",
   "metadata": {},
   "source": [
    "## 1. 时间复杂度的概念\n",
    "\n",
    "先来看下面这个例子。"
   ]
  },
  {
   "cell_type": "code",
   "execution_count": null,
   "metadata": {},
   "outputs": [],
   "source": [
    "n = 1234  # 这只是一个为了让程序跑起来随便写的数字\n",
    "sum = 0\n",
    "\n",
    "for i in range(n):\n",
    "    for j in range(n):\n",
    "        sum += i + j\n",
    "\n",
    "print(sum)"
   ]
  },
  {
   "cell_type": "markdown",
   "metadata": {},
   "source": [
    "我们来计算一下这个程序在循环体内运行的次数。在计算程序运行次数或者时间复杂度时，我们一般认为**每个单元运行的时间都是相同的**，这个单元可以是一条语句，可以是一个代码块，只要它运行的次数不与问题规模(在这里是$n$)有关就好了。设$T(n)$表示问题规模为$n$时程序的运行时间，那么我们不难计算出\n",
    "\n",
    "$$T(n) = n^2$$\n",
    "\n",
    "这样看起来非常简单，也没有什么问题。但是接下来的例子里的$T(n)$就不是那么简单了。"
   ]
  },
  {
   "cell_type": "code",
   "execution_count": null,
   "metadata": {},
   "outputs": [],
   "source": [
    "n = 233  # 这只是一个为了让程序跑起来随便写的数字\n",
    "sum = 0\n",
    "\n",
    "for i in range(n):\n",
    "    for j in range(i):\n",
    "        for k in range(j):\n",
    "            sum += i + j + k\n",
    "\n",
    "print(sum)"
   ]
  },
  {
   "cell_type": "markdown",
   "metadata": {},
   "source": [
    "稍有数学功底的人可能会说，这个程序的运行时间是\n",
    "\n",
    "$$T(n) = \\binom{n}{3} = \\frac{n(n - 1)(n - 2)}{6}$$\n",
    "\n",
    "也不是一个非常难写的式子。可是这还是最最简单的程序之一，如果之后还有一些其它的程序代码，那么分析程序的运行时间将是一件非常头疼的事情。\n",
    "\n",
    "我们尝试用一种简单的方法来表示程序的运行时间。注意到，我们讨论程序的运行时间，一般是指当规模较大时的程序运行时间，这是因为我们利用计算机处理的问题一般都是规模庞大的，这样才能充分发挥计算机计算速度快的优势。回想渐近记号的定义，渐近记号就是表示的当问题规模$n$很大时程序运行时间的**数量级**，其优点正是使用方便。因此我们用一些渐近记号来表示程序的运行时间就变得非常自然了。比如在以上的两个例子中，第一个例子程序的**时间复杂度**便是$O(n^2)$，第二个程序的时间复杂度是$O(n^3)$。(**注意这里的大$O$记号的含义就是$\\Theta$记号，下同**)\n",
    "\n",
    "这样的记号还带来了另外一个方便之处，那便是**分析起来更加简单了**。在很多时候，我们甚至可以直接数有多少个**循环嵌套**以确定其时间复杂度是输入规模的多少次方，**但请注意这种做法是有风险的**，我们将在练习题中给出一些反例。我们还可以利用给出的几条性质来计算时间复杂度，这也给复杂度分析带来了极大的方便。\n",
    "\n",
    "我们用一道练习题来说明上述反例，并加深对于时间复杂度这一概念的理解。"
   ]
  },
  {
   "cell_type": "markdown",
   "metadata": {},
   "source": [
    "**例：**下面哪些程序的时间复杂度**不是**$O(n^2)$的：（多选）"
   ]
  },
  {
   "cell_type": "markdown",
   "metadata": {},
   "source": [
    "A."
   ]
  },
  {
   "cell_type": "code",
   "execution_count": null,
   "metadata": {},
   "outputs": [],
   "source": [
    "n = 5000  # 这只是一个为了让程序跑起来随便写的数字\n",
    "sum = 0\n",
    "\n",
    "for i in range(n):\n",
    "    for j in range(233):\n",
    "        sum += i * i + j * j\n",
    "\n",
    "print(sum)"
   ]
  },
  {
   "cell_type": "markdown",
   "metadata": {},
   "source": [
    "B."
   ]
  },
  {
   "cell_type": "code",
   "execution_count": null,
   "metadata": {},
   "outputs": [],
   "source": [
    "n = 2333  # 这只是一个为了让程序跑起来随便写的数字\n",
    "sum = 0\n",
    "\n",
    "for i in range(n // 32):\n",
    "    for j in range(i * n // 64):\n",
    "        sum += i * j\n",
    "        \n",
    "print(sum)"
   ]
  },
  {
   "cell_type": "markdown",
   "metadata": {},
   "source": [
    "C."
   ]
  },
  {
   "cell_type": "code",
   "execution_count": null,
   "metadata": {},
   "outputs": [],
   "source": [
    "# 计算满足A[i] + B[j] <= T的对数\n",
    "n = 66666  # 这只是一个为了让程序跑起来随便写的数字\n",
    "T = 88888\n",
    "A = [0] * n\n",
    "B = [0] * n\n",
    "\n",
    "for i in range(1, n):\n",
    "    A[i] = A[i - 1] + 4\n",
    "    B[i] = B[i - 1] + 1\n",
    "\n",
    "rear = n - 1   # 存放数组B的指针\n",
    "tot = 0   # 存储答案\n",
    "for i in range(n):\n",
    "    while (A[i] + B[rear] > T and rear >= 0):\n",
    "        rear -= 1\n",
    "    tot += rear + 1\n",
    "    \n",
    "print(tot)"
   ]
  },
  {
   "cell_type": "markdown",
   "metadata": {},
   "source": [
    "D."
   ]
  },
  {
   "cell_type": "code",
   "execution_count": null,
   "metadata": {},
   "outputs": [],
   "source": [
    "# 最长上升子序列\n",
    "import random\n",
    "\n",
    "n = 2333  # 这只是一个为了让程序跑起来随便写的数字\n",
    "A = [0] * n\n",
    "f = [0] * n\n",
    "\n",
    "for i in range(n):\n",
    "    A[i] = random.randint(1, 666666)\n",
    "    \n",
    "for i in range(n):\n",
    "    f[i] = 1\n",
    "    for j in range(i):\n",
    "        if (A[i] > A[j]):\n",
    "            f[i] = max(f[i], f[j] + 1)\n",
    "\n",
    "ans = 0\n",
    "for i in range(n):\n",
    "    ans = max(ans, f[i])\n",
    "    \n",
    "print(ans)"
   ]
  },
  {
   "cell_type": "markdown",
   "metadata": {},
   "source": [
    "## 2. 二分算法\n",
    "\n",
    "二分，顾名思义，是将问题分成两部分处理，根据问题的某些性质确定两部分的取舍。比如我们最熟悉的单调函数求根的二分算法，就是每次将根所在区域对半分，判断根落在哪一个部分，进而将问题规模缩小了一半，如此迭代下去就可以求出满足精度要求的结果。\n",
    "\n",
    "下面我们给出求根程序的具体代码，你可以尝试不同的函数$f(x)$并观察其效果。"
   ]
  },
  {
   "cell_type": "code",
   "execution_count": null,
   "metadata": {},
   "outputs": [],
   "source": [
    "# 求f(x) = x^3 + 2x^2 + 6x + 8 = 0的根\n",
    "def f(x):\n",
    "    return x ** 3 + 2 * x ** 2 + 6 * x + 8\n",
    "\n",
    "# 初始区间[L, R]\n",
    "L = -3\n",
    "R = 0\n",
    "\n",
    "# 精度要求eps\n",
    "eps = 1e-9\n",
    "\n",
    "while (R - L > eps):\n",
    "    mid = (L + R) / 2.0\n",
    "    if (f(L) * f(mid) <= 0):  # 若根位于区间[L, mid]内\n",
    "        R = mid               # 调整右端点R为mid\n",
    "    else:\n",
    "        L = mid               # 同理\n",
    "\n",
    "print (L)                     # 输出答案L(或R)"
   ]
  },
  {
   "cell_type": "markdown",
   "metadata": {},
   "source": [
    "我们分析一下这个算法的时间复杂度。假设我们的区间长度是$L$，精度是$eps$，那么大致上我们可以认为在这个区间内一共有$n = \\frac{L}{eps}$个离散点，那么我们每次二分(迭代)可以去掉一半，所以时间复杂度就是$O(\\log_2 n)$。"
   ]
  },
  {
   "cell_type": "markdown",
   "metadata": {},
   "source": [
    "由上例可以看出，二分算法经常用于某些具有**单调性**问题的求解，这样的二分可以**将求解型问题转化为判定型问题**，而一般说来判定型问题都是更加容易的。再比如下面这个问题：在一个单调不减序列$A$中找到比给定数字$x$小(或等于)的最大数，若不存在则输出$-1$。这个问题直接求可能是困难的，但是你总是可以判断给定的一个数$y \\in A$是不是比$x$要小，因而我们可以用二分算法，假设$A[mid] \\leq x$，那么说明所要找的答案一定在区间$[L, mid]$中，反之则一定在$[mid + 1, R]$中。这样迭代下去就能找到最终的答案了。与上例类似，这个算法的时间复杂度就是$O(\\log_2 n)$。本题作为练习，部分代码留给大家实现。"
   ]
  },
  {
   "cell_type": "code",
   "execution_count": null,
   "metadata": {},
   "outputs": [],
   "source": [
    "def lowerBound(A, x):      # 在A中寻找比x小的最大数，不存在则输出-1\n",
    "    ans = -1\n",
    "    \n",
    "    # TODO: 在这里开始你的代码。\n",
    "    pass\n",
    "    # 以上为你的代码。\n",
    "    \n",
    "    return ans\n",
    "\n",
    "A = [1, 4, 8, 12, 17, 20, 28, 33, 35, 40, 56, 78, 99, 100]\n",
    "print (lowerBound(A, 34))   # 这里你应该输出33\n",
    "print (lowerBound(A, 17))   # 这里你应该输出17\n",
    "print (lowerBound(A, 0))    # 这里你应该输出-1\n",
    "print (lowerBound(A, 233))  # 这里你应该输出100"
   ]
  },
  {
   "cell_type": "markdown",
   "metadata": {},
   "source": [
    "我们最后再讲一种与二分有关的技巧，我们称之为**二分答案**。在某些具有单调性的问题中，我们也可以用二分的算法将问题转化为判定型问题。我们举一例来体会这种二分答案的技巧。"
   ]
  },
  {
   "cell_type": "markdown",
   "metadata": {},
   "source": [
    "**例：(NOIP2015跳石头)** 一年一度的“跳石头”比赛又要开始了！这项比赛将在一条笔直的河道中进行，河道中分布着一些巨大岩石。组委会已经选择好了两块岩石作为比赛起点和终点。在起点和终点之间，有$N(1 \\leq N \\leq 50,000)$块岩石（不含起点和终点的岩石）。在比赛过程中，选手们将从起点出发，每一步跳向相邻的岩石，直至到达终点。\n",
    "\n",
    "为了提高比赛难度，组委会计划移走一些岩石，使得选手们在比赛过程中的**最短跳跃距离尽可能长**。由于预算限制，组委会至多从起点和终点之间移走$M(1 \\leq M \\leq N)$块岩石（不能移走起点和终点的岩石）。给定岩石的初始位置，求这个最大的最短跳跃距离。"
   ]
  },
  {
   "cell_type": "markdown",
   "metadata": {},
   "source": [
    "分析这道题目，我们发现题目中出现了这样的字眼：最短跳跃距离尽可能长。这种字眼是我们考虑二分答案的一种提示性的信息。我们考虑这道题目的**单调性**，我们发现，如果答案$L$(最短距离)满足条件(移走最多$M$块岩石)，那么比$L$小的任何距离都是合法的答案；反之，如果不满足条件，那么比其大的任何距离都是不合法的答案。这样我们就可以利用这种单调性进行二分，假设当前答案为$mid$，我们检查是否有一种移除方案满足条件，这可以贪心地求出；若答案$x$合法，那么将$L$设为$mid$；否则将$R$设为$mid - 1$。如此迭代下去就可以找到唯一的答案，那么这个答案就是最大的最短跳跃距离。\n",
    "\n",
    "我们来分析一下这个算法的时间复杂度。这个算法一共需要$O(\\log_2 n)$次二分操作，而每次判断合法所需的时间是$O(n)$的。因而这个算法的时间复杂度就是$O(n \\log_2 n)$。具体实现见下，同样地，部分代码需要你来补全。"
   ]
  },
  {
   "cell_type": "code",
   "execution_count": null,
   "metadata": {},
   "outputs": [],
   "source": [
    "def checkValid(A, M, x):\n",
    "    # TODO: 在这里开始你的代码。提示：使用贪心法，只要距离小于x便移除这块石头。\n",
    "    return True\n",
    "    # 以上为你的代码。\n",
    "\n",
    "L, N, M = 25, 5, 2         # N:岩石的块数  M:最多移除的块数  L:起点到终点的距离\n",
    "A = [2, 11, 14, 17, 21]    # A:岩石距离起点的位置\n",
    "\n",
    "lBound, rBound = 0, L      # 二分区间[lBound, rBound]\n",
    "ans = 0                    # 记录答案\n",
    "\n",
    "while (lBound <= rBound):\n",
    "    mid = (lBound + rBound) // 2\n",
    "    if (checkValid(A, M, mid)):\n",
    "        ans = mid          # 这是一种合法的答案\n",
    "        lBound = mid + 1\n",
    "    else:\n",
    "        rBound = mid - 1\n",
    "\n",
    "print (ans)                # 这里你应该输出4，也即移掉2和14两块岩石\n"
   ]
  },
  {
   "cell_type": "markdown",
   "metadata": {},
   "source": [
    "## 3. 搜索算法\n",
    "\n",
    "搜索，顾名思义，就是把问题的**所有可能答案**全部遍历一遍，从中找到最优的或可行的答案。由于搜索算法的笨拙性，其效率一般都较低，一般说来，搜索算法的时间复杂度都很高，一般为问题规模的指数级别的复杂度。搜索算法的最明显的优势就是**考虑问题的全面性**，因为它将所有可能的情况全部都考虑进去了。\n",
    "\n",
    "下面我们来举几个简单的例子，这些例子会对你理解搜索算法有些帮助。"
   ]
  },
  {
   "cell_type": "markdown",
   "metadata": {},
   "source": [
    "**例1：(全排列问题)** 给定$n(1 \\leq n \\leq 9)$，求出其所有的全排列。\n",
    "\n",
    "这里由于$n$很小，其全排列种数最多有$9! = 362,880$种，因而可以将其全部列出。我们考虑一下搜索的过程，假设我们已经搜索到了第$i$位，我们已经记录了前$i-1$位用到的数字(全排列的$n$个数字是不能相同的)。对于第$i$位，我们暴力枚举所有可能的数字$1$到$n$，如果这个数字已经在之前出现了，那么我们跳过这个数字，否则尝试填入这个数字并标记这个数字已经被占用，并递归地搜索第$i + 1$位，搜索完后将该数字的占用标记清除并尝试下一个数字。具体程序见下。"
   ]
  },
  {
   "cell_type": "code",
   "execution_count": null,
   "metadata": {
    "scrolled": false
   },
   "outputs": [],
   "source": [
    "def perm(step, p, vis, n):\n",
    "    if (step >= n):\n",
    "        for i in p:\n",
    "            print(i, end = \"\")\n",
    "        print()\n",
    "        return\n",
    "    \n",
    "    for i in range(1, n + 1):\n",
    "        if (not vis[i]):\n",
    "            vis[i] = True                  # 标记这个数字被用\n",
    "            p[step] = i\n",
    "            perm(step + 1, p, vis, n)      # 递归下一层\n",
    "            p[step] = 0                    # Optional\n",
    "            vis[i] = False                 # 重要：将标记清除\n",
    "\n",
    "n = 4\n",
    "p = [0] * n\n",
    "vis = [False] * (n + 1)\n",
    "perm(0, p, vis, n)"
   ]
  },
  {
   "cell_type": "markdown",
   "metadata": {},
   "source": [
    "**例2：(细胞计数问题)** 给定一个$n \\times n(1 \\leq n \\leq 1,000)$的矩阵，矩阵的每个元素都是`*`和`.`中的一种。`*`代表这个方格是细胞的一部分，`.`代表这是一个空位置。一个细胞是指所有细胞部分构成的**四连通块**(即上下左右连通)，请写一程序，求出有多少个细胞。比如下面这个例子中就有$2$个细胞。\n",
    "\n",
    "```\n",
    "***..\n",
    ".*..*\n",
    "**..*\n",
    "**.**\n",
    "..***\n",
    "```\n",
    "\n",
    "这道题目的关键是**如何在寻找到一个细胞部分后找到该细胞的所有的细胞部分并将其全部清除**。这里我们可以用**Floodfill(灌水)算法**，一种基于广度优先的算法来处理这个问题。每当我们找到一个细胞部分时，我们将其上下左右相邻的细胞部分放到队列中，每次在队列中取出一个元素再进行上述扩展，如此当队列为空时，这些属于一个细胞的所有细胞部分就全部被找到了。最后统计答案即可。程序见下，你的任务是分析这段程序的时间复杂度。"
   ]
  },
  {
   "cell_type": "code",
   "execution_count": null,
   "metadata": {},
   "outputs": [],
   "source": [
    "dx = (1, -1, 0, 0)\n",
    "dy = (0, 0, -1, 1)                  # 表示四个方向\n",
    "\n",
    "def floodfill(px, py, n, mat):      # 从(px, py)开始灌水，矩阵大小为n*n，mat描述这个矩阵\n",
    "    q, head = [], 0                 # q:队列  head:队头\n",
    "    q.append((px, py))              # 在队列中加入该位置\n",
    "    while (head < len(q)):          # 当队列非空\n",
    "        x, y = q[head]\n",
    "        mat[x][y] = 0               # 标记已经访问过\n",
    "        head += 1\n",
    "        \n",
    "        for i in range(4):\n",
    "            nx, ny = x + dx[i], y + dy[i]    # 计算新位置\n",
    "            if (nx >= 0 and nx < n and ny >= 0 and ny < n and mat[nx][ny] == 1):\n",
    "                q.append((nx, ny))  # 加入新的细胞部分\n",
    "\n",
    "mat = [[1, 1, 1, 0, 0],\n",
    "       [0, 1, 0, 0, 1],\n",
    "       [1, 1, 0, 0, 1],\n",
    "       [1, 1, 0, 1, 1],\n",
    "       [0, 0, 1, 1, 1]]     # 描述矩阵，1代表*，0代表.\n",
    "n = 5\n",
    "ans = 0\n",
    "\n",
    "for i in range(n):\n",
    "    for j in range(n):\n",
    "        if (mat[i][j]):\n",
    "            ans += 1\n",
    "            floodfill(i, j, n, mat)\n",
    "\n",
    "print(ans)"
   ]
  },
  {
   "cell_type": "markdown",
   "metadata": {},
   "source": [
    "## 4. 排序算法\n",
    "\n",
    "排序算法一种将乱序序列重新排列使得其相邻两个元素之间满足某种**偏序关系**，这种偏序关系要保证具有传递性。将一个数字序列从小到大排序就是排序算法的最常见的应用。排序算法有很多种，常见的有选择排序、插入排序、冒泡排序、快速排序、归并排序、堆排序、桶排序、基数排序等等。限于篇幅，在这里我们只讲解冒泡排序和归并排序两种。"
   ]
  },
  {
   "cell_type": "markdown",
   "metadata": {},
   "source": [
    "### (1) 冒泡排序\n",
    "\n",
    "冒泡排序是一种简单的排序算法，它重复走访要排序的数列，一次比较两个元素，如果它们的顺序错误就把它们交换过来，直到再没有元素需要交换。这个算法的名字由来就是因为越小的元素会经由交换慢慢“浮”到数列的顶端。\n",
    "\n",
    "冒泡排序算法的步骤如下：\n",
    "\n",
    "1. 比较相邻的两个元素。如果第一个元素比第二个大，就交换他们两个。\n",
    "\n",
    "2. 对每一对相邻元素作同样的工作，从开始第一对到结尾的最后一对。这步做完后，**最后的元素会是最大的元素**。\n",
    "\n",
    "3. 针对所有的元素重复以上步骤，除了最后一个。\n",
    "\n",
    "4. 持续每次对越来越少的元素重复上面的步骤，直到没有任何一对数字需要比较。\n",
    "\n",
    "容易发现，冒泡排序的时间复杂度是$O(n^2)$的。下面我们给出这段程序，你需要将其补全。"
   ]
  },
  {
   "cell_type": "code",
   "execution_count": null,
   "metadata": {},
   "outputs": [],
   "source": [
    "def bubble_sort(A, n):\n",
    "    for i in range(n):\n",
    "        for j in range(n - i - 1):\n",
    "            # TODO: 在这里开始你的代码。\n",
    "            pass\n",
    "            # 以上为你的代码。\n",
    "    return A\n",
    "\n",
    "A = [1, 8, 2, 9, 7, 6, 3, 5, 10]\n",
    "print (bubble_sort(A, len(A)))"
   ]
  },
  {
   "cell_type": "markdown",
   "metadata": {},
   "source": [
    "### (2) 归并排序\n",
    "\n",
    "归并排序是创建在归并操作上的一种有效的排序算法。该算法是采用**分治法**的一个非常典型的应用，且各层分治递归可以同时进行。我们首先介绍**归并操作**的步骤，即将两个**有序**的序列合并为一个有序的序列。**归并操作**的步骤如下。\n",
    "\n",
    "1. 申请空间，使其大小为两个已经排序序列之和，该空间用来存放合并后的序列。\n",
    "2. 设定两个指针，最初位置分别为两个已经排序序列的起始位置。\n",
    "3. 比较两个指针所指向的元素，选择相对小的元素放入到合并空间，并移动指针到下一位置。\n",
    "4. 重复步骤3直到某一指针到达序列尾。\n",
    "5. 将另一序列剩下的所有元素直接复制到合并序列尾。\n",
    "\n",
    "介绍完归并操作，我们给出归并排序的递归步骤。\n",
    "\n",
    "1. 若序列长度为$1$，则直接返回该序列。注意长度为$1$的序列一定有序。\n",
    "2. 将序列一分为二，使得两序列的长度最多差$1$，并递归地对两个序列进行步骤1。注意递归结束后这两个序列都是有序的。\n",
    "3. 将两个序列进行归并操作，操作完成后返回该序列。\n",
    "\n",
    "那么归并排序的复杂度是怎样的呢？很显然，由于每次递归时序列长度减半，因而递归操作的层数是$O(\\log_2 n)$的，又因为每层的合并操作的时间复杂度是$O(n)$的，因而归并排序的总时间复杂度就是$O(n \\log_2 n)$。\n",
    "\n",
    "从另一个角度来看，我们也可以用递归式来计算归并排序的时间复杂度。设对长度为$n$的序列进行归并排序的时间为$T(n)$，由于每次将序列一分为而进行归并排序，且归并操作的时间复杂度是$O(n)$，因而有关系式$$T(n) = 2T(\\frac{n}{2}) + O(n)$$由主定理立即得$$T(n) = O(n \\log_2 n)$$\n",
    "\n",
    "下面我们给出归并排序的代码。"
   ]
  },
  {
   "cell_type": "code",
   "execution_count": null,
   "metadata": {},
   "outputs": [],
   "source": [
    "def merge_sort(lst):\n",
    "    if len(lst) <= 1:\n",
    "        return lst\n",
    "\n",
    "    def merge(left, right):\n",
    "        merged, h_left, h_right = [], 0, 0\n",
    "        while (h_left < len(left) and h_right < len(right)):\n",
    "            if (left[h_left] < right[h_right]):\n",
    "                merged.append(left[h_left])\n",
    "                h_left += 1\n",
    "            else:\n",
    "                merged.append(right[h_right])\n",
    "                h_right += 1\n",
    "                \n",
    "        while (h_left < len(left)):\n",
    "            merged.append(left[h_left])\n",
    "            h_left += 1\n",
    "        \n",
    "        while (h_right < len(right)):\n",
    "            merged.append(right[h_right])\n",
    "            h_right += 1\n",
    "            \n",
    "        return merged\n",
    "\n",
    "    middle = int(len(lst) // 2)\n",
    "    left = merge_sort(lst[:middle])\n",
    "    right = merge_sort(lst[middle:])\n",
    "    return merge(left, right)\n",
    "\n",
    "A = [1, 8, 2, 9, 7, 6, 3, 5, 10]\n",
    "print (merge_sort(A))"
   ]
  },
  {
   "cell_type": "markdown",
   "metadata": {},
   "source": [
    "### (3) Python中的内置排序函数\n",
    "\n",
    "幸运的是，在Python中，你并不需要手写排序算法，因为你可以使用Python中内置的排序函数。常见的排序函数有`sort()`和`sorted()`两种，这里只介绍它们最基本的应用。\n",
    "\n",
    "下面我们将给出一些代码，并通过注释介绍它们的功能。"
   ]
  },
  {
   "cell_type": "code",
   "execution_count": null,
   "metadata": {},
   "outputs": [],
   "source": [
    "a = [5, 2, 1, 9, 6]\n",
    "\n",
    "# sorted()函数\n",
    "\n",
    "print (sorted(a))                       # 升序排序，不改变原序列\n",
    "print (sorted(a, reverse = True))       # 降序排序，不改变原序列\n",
    "print (a)                               # 序列a不变\n",
    "\n",
    "# sort()函数\n",
    "\n",
    "a.sort()                                # 升序排序，改变原序列\n",
    "print (a)\n",
    "\n",
    "a.sort(reverse = True)                  # 降序排序，改变原序列\n",
    "print (a)"
   ]
  },
  {
   "cell_type": "code",
   "execution_count": null,
   "metadata": {},
   "outputs": [],
   "source": [
    "# 自定义排序函数\n",
    "\n",
    "def getLast(s):\n",
    "    return s[-1]                        # 按最后一个字符排序\n",
    "\n",
    "a = ['abc','b','AAz','ee', 'cf', 'cs']\n",
    "\n",
    "print (sorted(a, key = getLast))\n",
    "\n",
    "a.sort(key = getLast, reverse = True)\n",
    "print (a)"
   ]
  },
  {
   "cell_type": "code",
   "execution_count": null,
   "metadata": {},
   "outputs": [],
   "source": [
    "# 多关键字排序\n",
    "\n",
    "a = [(3, 5), (2, 7), (2, 5), (1, 10), (3, 4), (1, 8), (4, 1)]\n",
    "\n",
    "print (sorted(a, key = lambda x : (x[0], x[1])))                # 以x[0]为第一关键字，x[1]为第二关键字排序\n",
    "print (sorted(a, key = lambda x : (x[1], x[0])))                # 以x[1]为第一关键字，x[0]为第二关键字排序"
   ]
  },
  {
   "cell_type": "markdown",
   "metadata": {},
   "source": [
    "## 5. 练习题"
   ]
  },
  {
   "cell_type": "markdown",
   "metadata": {},
   "source": [
    "(1) 分析以下程序的时间复杂度。"
   ]
  },
  {
   "cell_type": "code",
   "execution_count": null,
   "metadata": {},
   "outputs": [],
   "source": [
    "def foo(x):\n",
    "    ans = 0\n",
    "    for i in range(9):\n",
    "        for j in range(x):\n",
    "            ans += i + j\n",
    "    return ans\n",
    "\n",
    "n = 6   # 这只是一个为了让程序跑起来随便写的数字\n",
    "ans = 0\n",
    "\n",
    "for i in range(n):\n",
    "    for j in range(i):\n",
    "        for k in range(i * j):\n",
    "            for l in range(i * j * k):\n",
    "                ans += foo(l)\n",
    "            for a in range(n * n * n):\n",
    "                ans += a\n",
    "\n",
    "print(ans)"
   ]
  },
  {
   "cell_type": "markdown",
   "metadata": {},
   "source": [
    "(2) 分析以下程序的时间复杂度。"
   ]
  },
  {
   "cell_type": "code",
   "execution_count": null,
   "metadata": {},
   "outputs": [],
   "source": [
    "# 最长上升子序列V2\n",
    "import random\n",
    "\n",
    "def get(g, x):                         # 寻找g中比x小的最大数的位置\n",
    "    L, R, ans = 1, len(g), 0\n",
    "    while (L <= R):\n",
    "        mid = (L + R) // 2\n",
    "        if (g[mid] < x):\n",
    "            ans = mid\n",
    "            L = mid + 1\n",
    "        else:\n",
    "            R = mid - 1\n",
    "    return ans\n",
    "\n",
    "\n",
    "n = 88888                              # 这只是一个为了让程序跑起来随便写的数字\n",
    "uBound = 666666\n",
    "A = [0] * n\n",
    "f = [0] * n\n",
    "g = [uBound + 1] * (n + 1)\n",
    "\n",
    "for i in range(n):\n",
    "    A[i] = random.randint(1, uBound)\n",
    "    \n",
    "f[0] = 1\n",
    "g[1] = A[0]\n",
    "for i in range(1, n):\n",
    "    f[i] = get(g, A[i]) + 1\n",
    "    g[f[i]] = min(g[f[i]], A[i])\n",
    "\n",
    "ans = 0\n",
    "for i in range(n):\n",
    "    ans = max(ans, f[i])\n",
    "\n",
    "print(ans)"
   ]
  },
  {
   "cell_type": "markdown",
   "metadata": {},
   "source": [
    "(3) **三分算法。**三分算法也是一种常用的数值计算方法，其被应用于求**某些特殊函数**的最小(大)值点。其算法原理与二分算法类似，只不过其是将区间分为三等份，这样我们便得到了两个分割点，通过比较这两个分割点的大小关系我们就可以舍弃这三等份中的一份，如此迭代下去直到精度满足要求。\n",
    "\n",
    "举个例子，假设我们要求函数$f(x) = x^2$的最小值，初始区间为$[-1, 5]$，在第一步，我们取三等分点$x_1 = 1, x_2 = 3$，并比较$f(x_1)$和$f(x_2)$的大小，显然有$f(x_1) < f(x_2)$。在求最小值的过程中，我们**舍弃离较大值较近的那一份**，也即区间$[x_2, 5]$，留下区间$[-1, x_2]$，如此迭代下去即可找到函数$f(x)$的最小值。\n",
    "\n",
    "**a.** 请阐述题目中“**某些特殊函数**”的具体含义。\n",
    "\n",
    "**b.** 请阐述三分算法求最小值的过程中，加粗部分(**舍弃离较大值较近的那一份**)的正确性。\n",
    "\n",
    "**c.** 请分析在初始区间长度为$L$，精度要求为$eps$的情形下，算法的时间复杂度。\n",
    "\n",
    "**d.** 请写一程序，求出使函数$f(x) = x^6 - 3x^5 - 2x^4 + 3x^3 - 6x^2 + 7x + 8$在区间$[-1, 1]$内最大的$x$，记为$\\hat{x}$。要求精确到小数点后$3$位。请尝试用二分法和三分法两种方法解决这个问题。"
   ]
  },
  {
   "cell_type": "markdown",
   "metadata": {},
   "source": [
    "(4) 利用二分或倍增算法，设计程序解决如下问题：\n",
    "\n",
    "**a.** 给定$n$，求$[\\sqrt{n}]$，其中$1 \\leq n \\leq 10^{18}$，$[x]$表示不超过$x$的最大整数。\n",
    "\n",
    "**b.** 给定$a, b$，求$a^b$。为了避免答案过大，你只需要求出答案对$1,233,333,333$取模的结果。其中$1 \\leq a, b \\leq 10^9$。"
   ]
  },
  {
   "cell_type": "markdown",
   "metadata": {},
   "source": [
    "(5) **(POJ1011 Sticks)** George took sticks of the same length and cut them randomly until all parts became at most $50$ units long. Now he wants to return sticks to the original state, but he forgot how many sticks he had originally and how long they were originally. Please help him and design a program which computes the smallest possible original length of those sticks. All lengths expressed in units are integers greater than zero.\n",
    "\n",
    "The input contains blocks of $2$ lines. The first line contains the number of sticks parts after cutting, there are at most $64$ sticks. The second line contains the lengths of those parts separated by the space. The last line of the file contains zero.\n",
    "\n",
    "The output should contain the smallest possible length of original sticks, one per line.\n",
    "\n",
    "提示：注意本题剪枝的作用。"
   ]
  },
  {
   "cell_type": "markdown",
   "metadata": {},
   "source": [
    "(6) **八数码问题。**给出一个有$8$个数字(从$1$到$8$)的九宫格，有一个空格。每次可以将与该空格相邻的数字移动到该空格。给定初始状态和最终状态，问从初始状态到最终状态至少需要多少步。下面是一个合法的八数码状态(其中$*$表示空格)：\n",
    "\n",
    "```\n",
    "1 3 4\n",
    "2 8 *\n",
    "6 7 5\n",
    "```\n",
    "\n",
    "提示：注意重复状态的记录。"
   ]
  },
  {
   "cell_type": "markdown",
   "metadata": {},
   "source": [
    "(7) **迷宫问题。** 给定一个$n \\times n(1 \\leq n \\leq 1,000)$的矩阵，矩阵的每个元素都是`*`和`.`中的一种。`*`代表这个方格不能通过，`.`代表这个方格能够通过。你可以从一个位置一步走到其相邻的四连通方格内。现给定起点和终点，编写一个程序，求解下面两个问题：\n",
    "\n",
    "**a.** 能否从起点到达终点。\n",
    "\n",
    "**b.** 若能从起点到达终点，那么所需的最少步数是多少。"
   ]
  },
  {
   "cell_type": "markdown",
   "metadata": {},
   "source": [
    "(8) **国王放置问题。** 给定一个$n \\times n$的棋盘，要在这些位置上放置任意数量的国王。国王的攻击范围是与其相邻的八连通方格。求有多少种放置方案使得任意两个国王直接不能够相互攻击。其中\n",
    "\n",
    "**a.** $1 \\leq n \\leq 4$。\n",
    "\n",
    "**b.** $1 \\leq n \\leq 9$。请设计另一种算法解决该问题或说明朴素的搜索算法无法在短时间内得到答案。"
   ]
  },
  {
   "cell_type": "markdown",
   "metadata": {},
   "source": [
    "(9) **男女配对问题。** 现有$n$名男生和$m$名女生，每个男生和女生都有一个属性值，第$i$个男生的属性值是$A_i$，第$j$个女生的属性值是$B_j$。现要挑选一男一女参加舞会，要求男女属性值和不得小于一个给定的值$T$，问有多少种挑选方案。设计一个$O(n \\log_2 n)$的算法解决该问题。"
   ]
  },
  {
   "cell_type": "markdown",
   "metadata": {},
   "source": [
    "(10) **Meet-in-the-middle算法。** 给定一个含有$n$个元素的序列$A$，请在序列$A$中找出$6$个元素(可以重复)，记为$k_1, k_2, \\cdots, k_6$，满足$$\\sum_{i = 1}^{6} k_i = 0$$请在$O(n^3 \\log_2 n)$的时间内找到所有满足条件的方案。"
   ]
  },
  {
   "cell_type": "markdown",
   "metadata": {},
   "source": [
    "(11) **离散化算法。** 离散化算法是一种应用广泛的算法。给定一个含有$n$个元素的序列$A$，当我们**只关心序列$A$中元素的偏序关系而不关心其具体值**时，我们可以把序列$A$中的每个元素映射到一个大于等于$1$小于等于$n$的整数，设新序列为$B$，满足对于任意的$1 \\leq i, j \\leq n$，若$A_i \\circ A_j$，则也有$B_i \\circ B_j$，其中$\\circ$为$<, =, >$中的一种。请使用排序+二分或排序+字典的算法，在$O(n \\log_2 n)$的时间内解决该问题。"
   ]
  },
  {
   "cell_type": "markdown",
   "metadata": {},
   "source": [
    "(12) **最舒适路径。** 给定一个$n \\times n$的矩阵，第$i$行第$j$列的数字$A_{ij}$代表这一点的高度。现在一个人要从左上角$(1, 1)$走到右下角$(n, n)$，要求路径上最高高度和最低高度的差值尽量小。求出这个最小的差值，其中\n",
    "\n",
    "**a.** $1 \\leq n \\leq 40, 1 \\leq A_{ij} \\leq 500$。\n",
    "\n",
    "**b.** $1 \\leq n \\leq 40, 1 \\leq A_{ij} \\leq 10^9$。\n",
    "\n",
    "**c.** $1 \\leq n \\leq 400, 1 \\leq A_{ij} \\leq 10^9$。请设计另一种算法解决该问题或说明你的**b**题算法无法在短时间内得到答案。\n",
    "\n",
    "提示：你可能需要**离散化算法**来处理大范围的权值。"
   ]
  },
  {
   "cell_type": "markdown",
   "metadata": {},
   "source": [
    "(13) **逆序对问题。** 我们称序列$A$中两个数字$A_i, A_j (i < j)$构成一个**逆序对**，当且仅当$A_i > A_j$。现给定一个序列$A$，请你求出序列$A$的逆序对数量。要求设计一个$O(n \\log_2 n)$的算法。提示：考虑归并排序的归并操作。"
   ]
  }
 ],
 "metadata": {
  "kernelspec": {
   "display_name": "Python 3",
   "language": "python",
   "name": "python3"
  },
  "language_info": {
   "codemirror_mode": {
    "name": "ipython",
    "version": 3
   },
   "file_extension": ".py",
   "mimetype": "text/x-python",
   "name": "python",
   "nbconvert_exporter": "python",
   "pygments_lexer": "ipython3",
   "version": "3.6.5"
  }
 },
 "nbformat": 4,
 "nbformat_minor": 2
}
